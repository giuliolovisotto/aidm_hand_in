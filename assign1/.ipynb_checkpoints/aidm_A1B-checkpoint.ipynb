{
 "metadata": {
  "name": "",
  "signature": "sha256:3e356099ba38dc57ca5933ecc553f1ce09589abc49937f349dfa70961c858c0c"
 },
 "nbformat": 3,
 "nbformat_minor": 0,
 "worksheets": [
  {
   "cells": [
    {
     "cell_type": "code",
     "collapsed": false,
     "input": [
      "import lshToolset as ls\n",
      "import numpy as np\n",
      "print \"====================================TASK 5=============================================\"\n",
      "print \"Generate 2 vectors of doubles\"\n",
      "v1, v2 = np.random.randn(5), np.random.randn(5)\n",
      "print v1\n",
      "print v2\n",
      "print \"The cosine similarity is: \" + str(ls.cossim(v1, v2))"
     ],
     "language": "python",
     "metadata": {},
     "outputs": [
      {
       "output_type": "stream",
       "stream": "stdout",
       "text": [
        "====================================TASK 5=============================================\n",
        "Generate 2 vectors of doubles\n",
        "[ 1.15675457 -1.1189088   0.51700219 -0.0678712   0.96619956]\n",
        "[ 0.21835393 -0.09286974  0.12699583  0.64204584  1.52997674]\n",
        "The cosine similarity is: 0.691901842836\n"
       ]
      }
     ],
     "prompt_number": 1
    },
    {
     "cell_type": "code",
     "collapsed": false,
     "input": [
      "print \"====================================TASK 6=============================================\"\n",
      "M = np.array([v1, v2])\n",
      "M = M.T  # transpose the matrix since sketch wants the vectors on the columns\n",
      "[sk, r_vecs] = ls.sketch(M,3)\n",
      "print \"Sketches for matrix composed by [v1, v2], sketch(M,3)\"\n",
      "print sk\n"
     ],
     "language": "python",
     "metadata": {},
     "outputs": [
      {
       "output_type": "stream",
       "stream": "stdout",
       "text": [
        "====================================TASK 6=============================================\n",
        "Sketches for matrix composed by [v1, v2], sketch(M,3)\n",
        "[[1, 1], [-1, -1], [-1, -1]]\n"
       ]
      }
     ],
     "prompt_number": 2
    },
    {
     "cell_type": "code",
     "collapsed": false,
     "input": [
      "print \"====================================TASK 7=============================================\"\n",
      "import matplotlib.pyplot as plt\n",
      "\n",
      "print \"Computing empirical chance of being detected.. \"\n",
      "\n",
      "testbed = np.random.randn(2, 1000)\n",
      "cos_sims = ls.cossim_all(testbed)\n",
      "[sketches, r_vecs] = ls.sketch(testbed, 100)\n",
      "\n",
      "# matplotlib stuff\n",
      "colours = [\"r-\", \"b-\", \"g-\", \"y-\", \"c-\"]\n",
      "plt.clf()\n",
      "plt.axis([0, 1, 0, 1])\n",
      "# draw theoretical s-curves\n",
      "iiindex=0\n",
      "for jjj in [(2, 50), (5, 20), (10, 10), (20, 5), (50, 2)]:\n",
      "    xs = np.linspace(0.0, 1.0, 100)\n",
      "    ys = [(1-(1-x**jjj[1])**jjj[0]) for x in xs]\n",
      "    plt.plot(xs, ys, colours[iiindex],)\n",
      "    iiindex += 1\n",
      "\n",
      "counter = 0\n",
      "slices = 7\n",
      "\n",
      "plot_ranges = np.linspace(0.2, 0.8, slices)\n",
      "\n",
      "for jj in [(2, 50), (5, 20), (10, 10), (20, 5), (50, 2)]:\n",
      "    mean = {round(key, 2): 0 for key in plot_ranges}\n",
      "    print jj, \" results are:\"\n",
      "    band = ls.bandingsim(sketches, jj[0], jj[1])\n",
      "    for k in range(10):  # repeat 10 times and average results\n",
      "        for prec in plot_ranges:\n",
      "            prec = round(prec, 2)\n",
      "            hits = 0\n",
      "            tots = 0\n",
      "            fn = 0\n",
      "            fp = 0\n",
      "            for i in range(len(cos_sims)):\n",
      "                for j in range(i+1, len(cos_sims)):\n",
      "                    if ls.falls_in_range(prec, 0.05, cos_sims[i][j]) and band[i][j] != 0:\n",
      "                        tots += 1\n",
      "                        hits += 1\n",
      "                    elif ls.falls_in_range(prec, 0.05, cos_sims[i][j]) and band[i][j] == 0:\n",
      "                        tots += 1\n",
      "                        fn += 1\n",
      "                    elif not ls.falls_in_range(prec, 0.05, cos_sims[i][j]) and band[i][j] != 0:\n",
      "                        fp += 1\n",
      "                        # tots += 1\n",
      "            mean[prec] = (mean[prec]*k + hits/float(1 if tots == 0 else tots))/(k+1)\n",
      "    print \"hits: %s, fn: %s, fp: %s\" % (hits, fn, fp)\n",
      "    print mean\n",
      "    # plot the empirical curves\n",
      "    plt.plot(plot_ranges, sorted([itm[1] for itm in mean.iteritems()]), colours[counter])\n",
      "    counter += 1\n",
      "\n",
      "plt.show()\n"
     ],
     "language": "python",
     "metadata": {},
     "outputs": [
      {
       "output_type": "stream",
       "stream": "stdout",
       "text": [
        "====================================TASK 7=============================================\n",
        "Computing empirical chance of being detected.. "
       ]
      },
      {
       "output_type": "stream",
       "stream": "stdout",
       "text": [
        "\n",
        "(2, 50)  results are:\n",
        "hits: 0, fn: 50017, fp: 13176"
       ]
      },
      {
       "output_type": "stream",
       "stream": "stdout",
       "text": [
        "\n",
        "{0.5: 0.0, 0.2: 0.0, 0.4: 0.0, 0.3: 0.0, 0.6: 0.0, 0.8: 0.0, 0.7: 0.0}\n",
        "(5, 20)  results are:\n",
        "hits: 9112, fn: 40905, fp: 58167"
       ]
      },
      {
       "output_type": "stream",
       "stream": "stdout",
       "text": [
        "\n",
        "{0.5: 0.0, 0.2: 0.0, 0.4: 0.0, 0.3: 0.0, 0.6: 0.0001815357928071485, 0.8: 0.1821780594597837, 0.7: 0.061379901521041405}\n",
        "(10, 10)  results are:\n",
        "hits: 35991, fn: 14026, fp: 92016"
       ]
      },
      {
       "output_type": "stream",
       "stream": "stdout",
       "text": [
        "\n",
        "{0.5: 0.0, 0.2: 0.0, 0.4: 0.0, 0.3: 0.0, 0.6: 0.050366097182161076, 0.8: 0.7195753443829097, 0.7: 0.3292665909136216}\n",
        "(20, 5)  results are:\n",
        "hits: 50017, fn: 0, fp: 217000"
       ]
      },
      {
       "output_type": "stream",
       "stream": "stdout",
       "text": [
        "\n",
        "{0.5: 0.6187033020004822, 0.2: 0.0014608472914290286, 0.4: 0.3190486783829151, 0.3: 0.052001526502902365, 0.6: 0.8698590072009198, 0.8: 1.0, 0.7: 0.9851484161633076}\n",
        "(50, 2)  results are:\n",
        "hits: 50017, fn: 0, fp: 362054"
       ]
      }
     ]
    },
    {
     "cell_type": "code",
     "collapsed": false,
     "input": [],
     "language": "python",
     "metadata": {},
     "outputs": []
    }
   ],
   "metadata": {}
  }
 ]
}