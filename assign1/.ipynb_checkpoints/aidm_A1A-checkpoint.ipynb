{
 "metadata": {
  "name": "",
  "signature": "sha256:318ec3dd287060169d1e1891883e59fc66078647e26f6a4bcd5110e31bff70cf"
 },
 "nbformat": 3,
 "nbformat_minor": 0,
 "worksheets": [
  {
   "cells": [
    {
     "cell_type": "code",
     "collapsed": false,
     "input": [
      "import lshToolset as ls\n",
      "print \"====================================TASK 1=============================================\"\n",
      "s1 = {\"The\", \"lazy\", \"brown\", \"fox\"}\n",
      "s2 = {\"My\", \"awesome\", \"pink\", \"fox\"}\n",
      "s3 = {\"Miguel\", \"is\", \"really\", \"awesome\"}\n",
      "s4 = {\"Miguel\", \"is\", \"really\", \"awesome\"}\n",
      "print 'Initialize some sets'\n",
      "print \"s1: \" + str(s1)\n",
      "print \"s2: \" + str(s2)\n",
      "print \"s3: \" + str(s3)\n",
      "print \"s4: \" + str(s4)\n",
      "print \"Use jsim() to find similarity between sets\"\n",
      "print \"jsim(s1,s2): \" + str(ls.jsim(s1, s2))\n",
      "print \"jsim(s1,s3): \" + str(ls.jsim(s1, s3))\n",
      "print \"jsim(s3,s4): \" + str(ls.jsim(s3, s4))"
     ],
     "language": "python",
     "metadata": {},
     "outputs": [
      {
       "output_type": "stream",
       "stream": "stdout",
       "text": [
        "====================================TASK 1=============================================\n",
        "Initialize some sets\n",
        "s1: set(['brown', 'lazy', 'fox', 'The'])\n",
        "s2: set(['pink', 'My', 'awesome', 'fox'])\n",
        "s3: set(['awesome', 'Miguel', 'is', 'really'])\n",
        "s4: set(['awesome', 'Miguel', 'is', 'really'])\n",
        "Use jsim() to find similarity between sets\n",
        "jsim(s1,s2): 0.142857142857\n",
        "jsim(s1,s3): 0.0\n",
        "jsim(s3,s4): 1.0\n"
       ]
      }
     ],
     "prompt_number": 3
    },
    {
     "cell_type": "code",
     "collapsed": false,
     "input": [
      "print \"========================================TASK 2========================================\"\n",
      "print (\"We defined 2 functions: \\n1) minhash_p() calculates the signatures matrix with the permutations, \\n2) \"\n",
      "       \"minhash_h() calculates the matrix using hash functions \\nBoth of them takes as input 2 arguments: \\n  \"\n",
      "       \"S -- the list of sets \\n  k -- number of permutations/hash functions;\\n\"\n",
      "       \"(minhash_p also takes as input the seed for the random package)\\n\"\n",
      "       \"\\nand they return in output a dictionary and the signatures matrix [Words, Signatures]\\n\")\n",
      "print \"Use sets from previous task to create the list\"\n",
      "sets = [s1, s2, s3, s4]\n",
      "print sets\n",
      "print \"\\nNow compute minhash_p(sets, 8, 123) (signatures are in the columns)\"\n",
      "[words, signatures] = ls.minhash_p(sets, 8, 123)\n",
      "print \"Words: \" + str(words)\n",
      "print \"Signatures: \" + str(signatures)\n",
      "\n",
      "print \"\\nNow compute minhash_h(sets, 8) (signatures are in the columns)\"\n",
      "[words, signatures] = ls.minhash_h(sets, 8)\n",
      "print \"Words: \" + str(words)\n",
      "print \"Signatures: \" + str(signatures)\n",
      "\n",
      "print \"\\nExperiment is repeatable if we use permutations so we can see that\\nminhash_p(sets, 8, 123) == minhash_p(sets, 8, 123) returns True\"\n",
      "print ls.minhash_p(sets, 8, 123) == ls.minhash_p(sets, 8, 123)\n",
      "\n"
     ],
     "language": "python",
     "metadata": {},
     "outputs": [
      {
       "output_type": "stream",
       "stream": "stdout",
       "text": [
        "========================================TASK 2========================================\n",
        "We defined 2 functions: \n",
        "1) minhash_p() calculates the signatures matrix with the permutations, \n",
        "2) minhash_h() calculates the matrix using hash functions \n",
        "Both of them takes as input 2 arguments: \n",
        "  S -- the list of sets \n",
        "  k -- number of permutations/hash functions;\n",
        "(minhash_p also takes as input the seed for the random package)\n",
        "\n",
        "and they return in output a dictionary and the signatures matrix [Words, Signatures]\n",
        "\n",
        "Use sets from previous task to create the list\n",
        "[set(['brown', 'lazy', 'fox', 'The']), set(['pink', 'My', 'awesome', 'fox']), set(['awesome', 'Miguel', 'is', 'really']), set(['awesome', 'Miguel', 'is', 'really'])]\n",
        "\n",
        "Now compute minhash_p(sets, 8, 123) (signatures are in the columns)\n",
        "Words: ['Miguel', 'My', 'The', 'awesome', 'brown', 'fox', 'is', 'lazy', 'pink', 'really']\n",
        "Signatures: [[7, 1, 6, 6], [4, 8, 6, 6], [2, 8, 9, 9], [5, 3, 0, 0], [5, 1, 0, 0], [2, 8, 9, 9], [2, 5, 6, 6], [7, 5, 9, 9]]\n",
        "\n",
        "Now compute minhash_h(sets, 8) (signatures are in the columns)\n",
        "Words: ['Miguel', 'My', 'The', 'awesome', 'brown', 'fox', 'is', 'lazy', 'pink', 'really']\n",
        "Signatures: [[92874466087833581926531088920105917716186407215L, 4793919775427258061152119700495825618956722657L, 144391756885273506304760600550175507005027295279L, 144391756885273506304760600550175507005027295279L], [66103652004706555458518931610159602103665243597L, 244731781068638697912813620040024836673558065637L, 151564803039981246648545238352492837272827560034L, 151564803039981246648545238352492837272827560034L], [246159029912315016558513047794286673636264813996L, 333088604632614733955144363187698527845140117509L, 63296631426001472966006061583086148640080728067L, 63296631426001472966006061583086148640080728067L], [16246195184119800415497900359395972555612370088L, 92995592519516602616706549263408895065035543878L, 230064346727520955724359657055385487296556374318L, 230064346727520955724359657055385487296556374318L], [51398221375690162686620862322411574024237949164L, 2991577888667342611160703465922638547216965985L, 235917453812951573606969978836179897953824351527L, 235917453812951573606969978836179897953824351527L], [190048739763983241529946450815162299094920304743L, 101791887884021659765634615129199535392710265900L, 145733036104279588929727433659096286336435851362L, 145733036104279588929727433659096286336435851362L], [335991391438897425708040367271866550503151615112L, 420153459058849741913313978740046771189921940590L, 9119623889087848363680238777385473253472017576L, 9119623889087848363680238777385473253472017576L], [157584350989059637954081476034354324400261573929L, 157584350989059637954081476034354324400261573929L, 13337545985735862014343486645646566396457551177L, 13337545985735862014343486645646566396457551177L]]\n",
        "\n",
        "Experiment is repeatable if we use permutations so we can see that\n",
        "minhash_p(sets, 8, 123) == minhash_p(sets, 8, 123) returns True\n",
        "True\n"
       ]
      }
     ],
     "prompt_number": 6
    },
    {
     "cell_type": "code",
     "collapsed": false,
     "input": [
      "print \"========================================TASK 3========================================\"\n",
      "print (\"sigsim(ss1,ss2) calculates the similarity between 2 signatures\")\n",
      "ss1 = [0, 1, 4, 6, 3]\n",
      "ss2 = [0, 1, 2, 4, 9]\n",
      "ss3 = [5, 6, 3, 7, 8]\n",
      "print ss1, ss2, ss3\n",
      "print \"sigsim(ss1,ss2) is \" + str(ls.sigsim(ss1,ss2))\n",
      "print \"\\nsimmat(M) calculates the full similarity matrix for the signatures\"\n",
      "mt = ls.transpose([ss1, ss2, ss3])\n",
      "print \"simmat(mt) is\"\n",
      "print ls.simmat(mt)\n"
     ],
     "language": "python",
     "metadata": {},
     "outputs": [
      {
       "output_type": "stream",
       "stream": "stdout",
       "text": [
        "========================================TASK 3========================================\n",
        "sigsim(ss1,ss2) calculates the similarity between 2 signatures\n",
        "[0, 1, 4, 6, 3] [0, 1, 2, 4, 9] [5, 6, 3, 7, 8]\n",
        "sigsim(ss1,ss2) is 0.4\n",
        "\n",
        "simmat(M) calculates the full similarity matrix for the signatures\n",
        "simmat(mt) is\n",
        "[[1.0, 0.4, 0.0], [0.4, 1.0, 0.0], [0.0, 0.0, 1.0]]\n"
       ]
      }
     ],
     "prompt_number": 7
    },
    {
     "cell_type": "code",
     "collapsed": false,
     "input": [
      "print \"========================================TASK 4========================================\"\n",
      "\n",
      "sets = [s1, s2, s3, s4]\n",
      "print sets\n",
      "[words,signatures] = ls.minhash_h(sets, 8)\n",
      "print (\"The function bandingsim implements the banding technique\\n\"\n",
      "       \"The result of the banding applied to the signature matrix is\")\n",
      "bsim = ls.bandingsim(signatures, 2, 4)\n",
      "print bsim\n",
      "print (\"which contains ones where the 2 signatures were identical in at least one band\")\n",
      "\n",
      "\n",
      "print \"\\n\\n\"\n",
      "\n",
      "import matplotlib.pyplot as plt\n",
      "import itertools\n",
      "import numpy\n",
      "# generate all non empty subsets and calculate jaccard's similarity\n",
      "testbed = []\n",
      "perms = [1,2,3,4,5,6,7,8,9]\n",
      "for i in range(1,10):\n",
      "    for k in ls.findsubsets(perms, i):\n",
      "        testbed.append(set([i for i in k]))\n",
      "\n",
      "# matplotlib stuff\n",
      "colours = [\"r-\", \"b-\", \"g-\", \"y-\", \"c-\"]\n",
      "plt.clf()\n",
      "plt.axis([0, 1, 0, 1])\n",
      "# draw theoretical s-curves\n",
      "iiindex=0\n",
      "for jjj in [(2, 50), (5, 20), (10, 10), (20, 5), (50, 2)]:\n",
      "    xs = numpy.linspace(0.0, 1.0, 100)\n",
      "    ys = [(1-(1-x**jjj[1])**jjj[0]) for x in xs]\n",
      "    plt.plot(xs, ys, colours[iiindex],)\n",
      "    iiindex += 1\n",
      "# compute jaccard similarity\n",
      "js = ls.jsall(testbed)\n",
      "# compute minhash\n",
      "minhash = ls.minhash_h(testbed, 100)[1]\n",
      "counter = 0\n",
      "slices = 7\n",
      "print \"Computing empirical chance of being detected.. \"\n",
      "for jj in [(2, 50), (5, 20), (10, 10), (20, 5), (50, 2)]:\n",
      "    \n",
      "    mean = {round(key,2): 0 for key in numpy.linspace(0.2, 0.8, slices)}\n",
      "    print jj, \" results are:\"\n",
      "    band = ls.bandingsim(minhash, jj[0], jj[1])\n",
      "    for k in range(10):  # repeat 10 times and average results\n",
      "        for prec in numpy.linspace(0.2, 0.8, slices):\n",
      "            prec = round(prec, 2)\n",
      "            hits = 0\n",
      "            tots, fn, fp = 0, 0, 0\n",
      "            for i in range(len(js)):\n",
      "                for j in range(i + 1, len(js)):\n",
      "                    if ls.falls_in_range(prec, 0.02, js[i][j]) and band[i][j] != 0:\n",
      "                        tots += 1\n",
      "                        hits += 1\n",
      "                    elif ls.falls_in_range(prec, 0.02, js[i][j]) and band[i][j] == 0:\n",
      "                        tots += 1\n",
      "                        fn += 1\n",
      "                    elif not ls.falls_in_range(prec, 0.02, js[i][j]) and band[i][j] != 0:\n",
      "                        fp += 1\n",
      "                        # hits += 1\n",
      "            mean[prec] = (mean[prec]*k + hits/float(1 if tots == 0 else tots))/(k+1)\n",
      "    print \"hits: %s, fn: %s, fp: %s\" % (hits, fn, fp)\n",
      "    print mean\n",
      "    # plot the empirical curves\n",
      "    plt.plot(numpy.linspace(0.2, 0.8, slices), sorted([itm[1] for itm in mean.iteritems()]), colours[counter])\n",
      "    counter += 1\n",
      "\n",
      "plt.show()"
     ],
     "language": "python",
     "metadata": {},
     "outputs": [
      {
       "output_type": "stream",
       "stream": "stdout",
       "text": [
        "========================================TASK 4========================================\n",
        "[set(['brown', 'lazy', 'fox', 'The']), set(['pink', 'My', 'awesome', 'fox']), set(['awesome', 'Miguel', 'is', 'really']), set(['awesome', 'Miguel', 'is', 'really'])]\n",
        "The function bandingsim implements the banding technique\n",
        "The result of the banding applied to the signature matrix is\n",
        "which contains ones where the 2 signatures were identical in at least one band\n",
        "[[1, 0, 0, 0], [0, 1, 0, 0], [0, 0, 1, 1], [0, 0, 1, 1]]\n",
        "\n",
        "\n",
        "\n",
        "Computing empirical chance of being detected.. "
       ]
      },
      {
       "output_type": "stream",
       "stream": "stdout",
       "text": [
        "\n",
        "(2, 50)  results are:\n",
        "hits: 0, fn: 630, fp: 0"
       ]
      },
      {
       "output_type": "stream",
       "stream": "stdout",
       "text": [
        "\n",
        "{0.5: 0.0, 0.2: 0.0, 0.4: 0.0, 0.3: 0.0, 0.6: 0.0, 0.8: 0.0, 0.7: 0.0}\n",
        "(5, 20)  results are:\n",
        "hits: 40, fn: 590, fp: 174"
       ]
      },
      {
       "output_type": "stream",
       "stream": "stdout",
       "text": [
        "\n",
        "{0.5: 0.0, 0.2: 0.0, 0.4: 0.0, 0.3: 0.0, 0.6: 0.0, 0.8: 0.06349206349206349, 0.7: 0.0}\n",
        "(10, 10)  results are:\n",
        "hits: 375, fn: 255, fp: 4629"
       ]
      },
      {
       "output_type": "stream",
       "stream": "stdout",
       "text": [
        "\n",
        "{0.5: 0.040167865707434046, 0.2: 0.0, 0.4: 0.007936507936507936, 0.3: 0.0013227513227513227, 0.6: 0.06746031746031746, 0.8: 0.5952380952380951, 0.7: 0.37169312169312174}\n",
        "(20, 5)  results are:\n",
        "hits: 630, fn: 0, fp: 36915"
       ]
      },
      {
       "output_type": "stream",
       "stream": "stdout",
       "text": [
        "\n",
        "{0.5: 0.6198291366906474, 0.2: 0.0015873015873015873, 0.4: 0.2523809523809524, 0.3: 0.10185185185185183, 0.6: 0.8492063492063491, 0.8: 1.0, 0.7: 0.9986772486772486}\n",
        "(50, 2)  results are:\n",
        "hits: 630, fn: 0, fp: 111259"
       ]
      },
      {
       "output_type": "stream",
       "stream": "stdout",
       "text": [
        "\n",
        "{0.5: 1.0, 0.2: 0.8460317460317459, 0.4: 0.9992063492063494, 0.3: 0.9828042328042328, 0.6: 1.0, 0.8: 1.0, 0.7: 1.0}\n"
       ]
      },
      {
       "ename": "KeyboardInterrupt",
       "evalue": "",
       "output_type": "pyerr",
       "traceback": [
        "\u001b[0;31m---------------------------------------------------------------------------\u001b[0m\n\u001b[0;31mKeyboardInterrupt\u001b[0m                         Traceback (most recent call last)",
        "\u001b[0;32m/Users/giulio/anaconda/lib/python2.7/site-packages/matplotlib/backend_bases.pyc\u001b[0m in \u001b[0;36menter_notify_event\u001b[0;34m(self, guiEvent, xy)\u001b[0m\n\u001b[1;32m   1931\u001b[0m         \u001b[0mself\u001b[0m\u001b[0;34m.\u001b[0m\u001b[0m_lastx\u001b[0m\u001b[0;34m,\u001b[0m \u001b[0mself\u001b[0m\u001b[0;34m.\u001b[0m\u001b[0m_lasty\u001b[0m \u001b[0;34m=\u001b[0m \u001b[0mNone\u001b[0m\u001b[0;34m,\u001b[0m \u001b[0mNone\u001b[0m\u001b[0;34m\u001b[0m\u001b[0m\n\u001b[1;32m   1932\u001b[0m \u001b[0;34m\u001b[0m\u001b[0m\n\u001b[0;32m-> 1933\u001b[0;31m     \u001b[0;32mdef\u001b[0m \u001b[0menter_notify_event\u001b[0m\u001b[0;34m(\u001b[0m\u001b[0mself\u001b[0m\u001b[0;34m,\u001b[0m \u001b[0mguiEvent\u001b[0m\u001b[0;34m=\u001b[0m\u001b[0mNone\u001b[0m\u001b[0;34m,\u001b[0m \u001b[0mxy\u001b[0m\u001b[0;34m=\u001b[0m\u001b[0mNone\u001b[0m\u001b[0;34m)\u001b[0m\u001b[0;34m:\u001b[0m\u001b[0;34m\u001b[0m\u001b[0m\n\u001b[0m\u001b[1;32m   1934\u001b[0m         \"\"\"\n\u001b[1;32m   1935\u001b[0m         \u001b[0mBackend\u001b[0m \u001b[0mderived\u001b[0m \u001b[0mclasses\u001b[0m \u001b[0mshould\u001b[0m \u001b[0mcall\u001b[0m \u001b[0mthis\u001b[0m \u001b[0mfunction\u001b[0m \u001b[0mwhen\u001b[0m \u001b[0mentering\u001b[0m\u001b[0;34m\u001b[0m\u001b[0m\n",
        "\u001b[0;31mKeyboardInterrupt\u001b[0m: "
       ]
      }
     ]
    }
   ],
   "metadata": {}
  }
 ]
}